{
  "cells": [
    {
      "cell_type": "markdown",
      "metadata": {
        "id": "view-in-github",
        "colab_type": "text"
      },
      "source": [
        "<a href=\"https://colab.research.google.com/github/yaman9675/Convolution-Model-Application/blob/main/12)_Convolution_model_Application.ipynb\" target=\"_parent\"><img src=\"https://colab.research.google.com/assets/colab-badge.svg\" alt=\"Open In Colab\"/></a>"
      ]
    },
    {
      "cell_type": "markdown",
      "metadata": {
        "id": "e7b3QWgus5Id"
      },
      "source": [
        "# Convolutional Neural Networks: Application\n",
        "\n",
        "Welcome to Course 4's second assignment! In this notebook, you will:\n",
        "\n",
        "- Create a mood classifer using the TF Keras Sequential API\n",
        "- Build a ConvNet to identify sign language digits using the TF Keras Functional API\n",
        "\n",
        "**After this assignment you will be able to:**\n",
        "\n",
        "- Build and train a ConvNet in TensorFlow for a __binary__ classification problem\n",
        "- Build and train a ConvNet in TensorFlow for a __multiclass__ classification problem\n",
        "- Explain different use cases for the Sequential and Functional APIs\n",
        "\n",
        "To complete this assignment, you should already be familiar with TensorFlow. If you are not, please refer back to the **TensorFlow Tutorial** of the third week of Course 2 (\"**Improving deep neural networks**\").\n",
        "\n",
        "## Important Note on Submission to the AutoGrader\n",
        "\n",
        "Before submitting your assignment to the AutoGrader, please make sure you are not doing the following:\n",
        "\n",
        "1. You have not added any _extra_ `print` statement(s) in the assignment.\n",
        "2. You have not added any _extra_ code cell(s) in the assignment.\n",
        "3. You have not changed any of the function parameters.\n",
        "4. You are not using any global variables inside your graded exercises. Unless specifically instructed to do so, please refrain from it and use the local variables instead.\n",
        "5. You are not changing the assignment code where it is not required, like creating _extra_ variables.\n",
        "\n",
        "If you do any of the following, you will get something like, `Grader not found` (or similarly unexpected) error upon submitting your assignment. Before asking for help/debugging the errors in your assignment, check for these first. If this is the case, and you don't remember the changes you have made, you can get a fresh copy of the assignment by following these [instructions](https://www.coursera.org/learn/convolutional-neural-networks/supplement/DS4yP/h-ow-to-refresh-your-workspace)."
      ]
    },
    {
      "cell_type": "markdown",
      "metadata": {
        "id": "kd1QQhQ-s5Ih"
      },
      "source": [
        "## Table of Contents\n",
        "\n",
        "- [1 - Packages](#1)\n",
        "    - [1.1 - Load the Data and Split the Data into Train/Test Sets](#1-1)\n",
        "- [2 - Layers in TF Keras](#2)\n",
        "- [3 - The Sequential API](#3)\n",
        "    - [3.1 - Create the Sequential Model](#3-1)\n",
        "        - [Exercise 1 - happyModel](#ex-1)\n",
        "    - [3.2 - Train and Evaluate the Model](#3-2)\n",
        "- [4 - The Functional API](#4)\n",
        "    - [4.1 - Load the SIGNS Dataset](#4-1)\n",
        "    - [4.2 - Split the Data into Train/Test Sets](#4-2)\n",
        "    - [4.3 - Forward Propagation](#4-3)\n",
        "        - [Exercise 2 - convolutional_model](#ex-2)\n",
        "    - [4.4 - Train the Model](#4-4)\n",
        "- [5 - History Object](#5)\n",
        "- [6 - Bibliography](#6)"
      ]
    },
    {
      "cell_type": "markdown",
      "metadata": {
        "id": "wleqFx8us5Ii"
      },
      "source": [
        "<a name='1'></a>\n",
        "## 1 - Packages\n",
        "\n",
        "As usual, begin by loading in the packages."
      ]
    },
    {
      "cell_type": "code",
      "execution_count": null,
      "metadata": {
        "id": "XlU9m1Y7s5Ii"
      },
      "outputs": [],
      "source": [
        "import math\n",
        "import numpy as np\n",
        "import h5py\n",
        "import matplotlib.pyplot as plt\n",
        "from matplotlib.pyplot import imread\n",
        "import scipy\n",
        "from PIL import Image\n",
        "import pandas as pd\n",
        "import tensorflow as tf\n",
        "import tensorflow.keras.layers as tfl\n",
        "from tensorflow.python.framework import ops\n",
        "from cnn_utils import *\n",
        "from test_utils import summary, comparator\n",
        "\n",
        "%matplotlib inline\n",
        "np.random.seed(1)"
      ]
    },
    {
      "cell_type": "markdown",
      "metadata": {
        "id": "eqz04MFts5Ij"
      },
      "source": [
        "<a name='1-1'></a>\n",
        "### 1.1 - Load the Data and Split the Data into Train/Test Sets\n",
        "\n",
        "You'll be using the Happy House dataset for this part of the assignment, which contains images of peoples' faces. Your task will be to build a ConvNet that determines whether the people in the images are smiling or not -- because they only get to enter the house if they're smiling!  "
      ]
    },
    {
      "cell_type": "code",
      "execution_count": null,
      "metadata": {
        "id": "NamivWtBs5Ik",
        "outputId": "895b0066-2d68-4d63-9c1b-e98b70766235"
      },
      "outputs": [
        {
          "name": "stdout",
          "output_type": "stream",
          "text": [
            "number of training examples = 600\n",
            "number of test examples = 150\n",
            "X_train shape: (600, 64, 64, 3)\n",
            "Y_train shape: (600, 1)\n",
            "X_test shape: (150, 64, 64, 3)\n",
            "Y_test shape: (150, 1)\n"
          ]
        }
      ],
      "source": [
        "X_train_orig, Y_train_orig, X_test_orig, Y_test_orig, classes = load_happy_dataset()\n",
        "\n",
        "# Normalize image vectors\n",
        "X_train = X_train_orig/255.\n",
        "X_test = X_test_orig/255.\n",
        "\n",
        "# Reshape\n",
        "Y_train = Y_train_orig.T\n",
        "Y_test = Y_test_orig.T\n",
        "\n",
        "print (\"number of training examples = \" + str(X_train.shape[0]))\n",
        "print (\"number of test examples = \" + str(X_test.shape[0]))\n",
        "print (\"X_train shape: \" + str(X_train.shape))\n",
        "print (\"Y_train shape: \" + str(Y_train.shape))\n",
        "print (\"X_test shape: \" + str(X_test.shape))\n",
        "print (\"Y_test shape: \" + str(Y_test.shape))"
      ]
    },
    {
      "cell_type": "markdown",
      "metadata": {
        "id": "Ge6rMAIxs5Il"
      },
      "source": [
        "You can display the images contained in the dataset. Images are **64x64** pixels in RGB format (3 channels)."
      ]
    },
    {
      "cell_type": "code",
      "execution_count": null,
      "metadata": {
        "id": "8NH9Gxyus5Il",
        "outputId": "6ef34fd3-c111-4886-b0c9-1a68cf766af1"
      },
      "outputs": [
        {
          "data": {
            "image/png": "[encoded data removed]",
            "text/plain": [
              "<Figure size 432x288 with 1 Axes>"
            ]
          },
          "metadata": {
            "needs_background": "light"
          },
          "output_type": "display_data"
        }
      ],
      "source": [
        "index = 124\n",
        "plt.imshow(X_train_orig[index]) #display sample training image\n",
        "plt.show()"
      ]
    },
    {
      "cell_type": "markdown",
      "metadata": {
        "id": "PB9tAOL0s5Im"
      },
      "source": [
        "<a name='2'></a>\n",
        "## 2 - Layers in TF Keras \n",
        "\n",
        "In the previous assignment, you created layers manually in numpy. In TF Keras, you don't have to write code directly to create layers. Rather, TF Keras has pre-defined layers you can use. \n",
        "\n",
        "When you create a layer in TF Keras, you are creating a function that takes some input and transforms it into an output you can reuse later. Nice and easy! "
      ]
    },
    {
      "cell_type": "markdown",
      "metadata": {
        "id": "YxH_UE4ds5Im"
      },
      "source": [
        "<a name='3'></a>\n",
        "## 3 - The Sequential API\n",
        "\n",
        "In the previous assignment, you built helper functions using `numpy` to understand the mechanics behind convolutional neural networks. Most practical applications of deep learning today are built using programming frameworks, which have many built-in functions you can simply call. Keras is a high-level abstraction built on top of TensorFlow, which allows for even more simplified and optimized model creation and training. \n",
        "\n",
        "For the first part of this assignment, you'll create a model using TF Keras' Sequential API, which allows you to build layer by layer, and is ideal for building models where each layer has **exactly one** input tensor and **one** output tensor. \n",
        "\n",
        "As you'll see, using the Sequential API is simple and straightforward, but is only appropriate for simpler, more straightforward tasks. Later in this notebook you'll spend some time building with a more flexible, powerful alternative: the Functional API. \n",
        " "
      ]
    },
    {
      "cell_type": "markdown",
      "metadata": {
        "id": "5BImOmlYs5Im"
      },
      "source": [
        "<a name='3-1'></a>\n",
        "### 3.1 - Create the Sequential Model\n",
        "\n",
        "As mentioned earlier, the TensorFlow Keras Sequential API can be used to build simple models with layer operations that proceed in a sequential order. \n",
        "\n",
        "You can also add layers incrementally to a Sequential model with the `.add()` method, or remove them using the `.pop()` method, much like you would in a regular Python list.\n",
        "\n",
        "Actually, you can think of a Sequential model as behaving like a list of layers. Like Python lists, Sequential layers are ordered, and the order in which they are specified matters.  If your model is non-linear or contains layers with multiple inputs or outputs, a Sequential model wouldn't be the right choice!\n",
        "\n",
        "For any layer construction in Keras, you'll need to specify the input shape in advance. This is because in Keras, the shape of the weights is based on the shape of the inputs. The weights are only created when the model first sees some input data. Sequential models can be created by passing a list of layers to the Sequential constructor, like you will do in the next assignment.\n",
        "\n",
        "<a name='ex-1'></a>\n",
        "### Exercise 1 - happyModel\n",
        "\n",
        "Implement the `happyModel` function below to build the following model: `ZEROPAD2D -> CONV2D -> BATCHNORM -> RELU -> MAXPOOL -> FLATTEN -> DENSE`. Take help from [tf.keras.layers](https://www.tensorflow.org/api_docs/python/tf/keras/layers) \n",
        "\n",
        "Also, plug in the following parameters for all the steps:\n",
        "\n",
        " - [ZeroPadding2D](https://www.tensorflow.org/api_docs/python/tf/keras/layers/ZeroPadding2D): padding 3, input shape 64 x 64 x 3\n",
        " - [Conv2D](https://www.tensorflow.org/api_docs/python/tf/keras/layers/Conv2D): Use 32 7x7 filters, stride 1\n",
        " - [BatchNormalization](https://www.tensorflow.org/api_docs/python/tf/keras/layers/BatchNormalization): for axis 3\n",
        " - [ReLU](https://www.tensorflow.org/api_docs/python/tf/keras/layers/ReLU)\n",
        " - [MaxPool2D](https://www.tensorflow.org/api_docs/python/tf/keras/layers/MaxPool2D): Using default parameters\n",
        " - [Flatten](https://www.tensorflow.org/api_docs/python/tf/keras/layers/Flatten) the previous output.\n",
        " - Fully-connected ([Dense](https://www.tensorflow.org/api_docs/python/tf/keras/layers/Dense)) layer: Apply a fully connected layer with 1 neuron and a sigmoid activation. \n",
        " \n",
        " \n",
        " **Hint:**\n",
        " \n",
        " Use **tfl** as shorthand for **tensorflow.keras.layers**"
      ]
    },
    {
      "cell_type": "code",
      "execution_count": null,
      "metadata": {
        "deletable": false,
        "nbgrader": {
          "cell_type": "code",
          "checksum": "95d28b191f257bdd5b70c7b8952559d5",
          "grade": false,
          "grade_id": "cell-0e56d3fc28b69aec",
          "locked": false,
          "schema_version": 3,
          "solution": true,
          "task": false
        },
        "id": "Sw6Z3j8_s5In"
      },
      "outputs": [],
      "source": [
        "# GRADED FUNCTION: happyModel\n",
        "\n",
        "def happyModel():\n",
        "    \"\"\"\n",
        "    Implements the forward propagation for the binary classification model:\n",
        "    ZEROPAD2D -> CONV2D -> BATCHNORM -> RELU -> MAXPOOL -> FLATTEN -> DENSE\n",
        "    \n",
        "    Note that for simplicity and grading purposes, you'll hard-code all the values\n",
        "    such as the stride and kernel (filter) sizes. \n",
        "    Normally, functions should take these values as function parameters.\n",
        "    \n",
        "    Arguments:\n",
        "    None\n",
        "\n",
        "    Returns:\n",
        "    model -- TF Keras model (object containing the information for the entire training process) \n",
        "    \"\"\"\n",
        "    model = tf.keras.Sequential([\n",
        "            ## ZeroPadding2D with padding 3, input shape of 64 x 64 x 3\n",
        "            \n",
        "            ## Conv2D with 32 7x7 filters and stride of 1\n",
        "            \n",
        "            ## BatchNormalization for axis 3\n",
        "            \n",
        "            ## ReLU\n",
        "            \n",
        "            ## Max Pooling 2D with default parameters\n",
        "            \n",
        "            ## Flatten layer\n",
        "            \n",
        "            ## Dense layer with 1 unit for output & 'sigmoid' activation\n",
        "            \n",
        "            # YOUR CODE STARTS HERE\n",
        "            ## ZeroPadding2D with padding 3, input shape of 64 x 64 x 3\n",
        "            tfl.ZeroPadding2D(padding=(3,3), input_shape=(64,64,3)),\n",
        "        \n",
        "            ## Conv2D with 32 7x7 filters and stride of 1\n",
        "            tfl.Conv2D(32,(7,7)),\n",
        "        \n",
        "            ## BatchNormalization for axis 3\n",
        "            tfl.BatchNormalization(axis=3),\n",
        "        \n",
        "            ## ReLU\n",
        "            tfl.ReLU(),\n",
        "        \n",
        "            ## Max Pooling 2D with default parameters\n",
        "            tfl.MaxPool2D(),\n",
        "        \n",
        "            ## Flatten layer\n",
        "            tfl.Flatten(),\n",
        "        \n",
        "            ## Dense layer with 1 unit for output & 'sigmoid' activation\n",
        "            tfl.Dense(1, activation='sigmoid')\n",
        "            \n",
        "            # YOUR CODE ENDS HERE\n",
        "        ])\n",
        "    \n",
        "    return model"
      ]
    },
    {
      "cell_type": "code",
      "execution_count": null,
      "metadata": {
        "deletable": false,
        "editable": false,
        "nbgrader": {
          "cell_type": "code",
          "checksum": "8d3575c950e2e78149be2d05d671c80d",
          "grade": true,
          "grade_id": "cell-e3e1046e5c33d775",
          "locked": true,
          "points": 10,
          "schema_version": 3,
          "solution": false,
          "task": false
        },
        "id": "nADTyVwNs5In",
        "outputId": "de93c9ff-75d4-442c-df66-4714ba5017d3"
      },
      "outputs": [
        {
          "name": "stdout",
          "output_type": "stream",
          "text": [
            "['ZeroPadding2D', (None, 70, 70, 3), 0, ((3, 3), (3, 3))]\n",
            "['Conv2D', (None, 64, 64, 32), 4736, 'valid', 'linear', 'GlorotUniform']\n",
            "['BatchNormalization', (None, 64, 64, 32), 128]\n",
            "['ReLU', (None, 64, 64, 32), 0]\n",
            "['MaxPooling2D', (None, 32, 32, 32), 0, (2, 2), (2, 2), 'valid']\n",
            "['Flatten', (None, 32768), 0]\n",
            "['Dense', (None, 1), 32769, 'sigmoid']\n",
            "\u001b[32mAll tests passed!\u001b[0m\n"
          ]
        }
      ],
      "source": [
        "happy_model = happyModel()\n",
        "# Print a summary for each layer\n",
        "for layer in summary(happy_model):\n",
        "    print(layer)\n",
        "    \n",
        "output = [['ZeroPadding2D', (None, 70, 70, 3), 0, ((3, 3), (3, 3))],\n",
        "            ['Conv2D', (None, 64, 64, 32), 4736, 'valid', 'linear', 'GlorotUniform'],\n",
        "            ['BatchNormalization', (None, 64, 64, 32), 128],\n",
        "            ['ReLU', (None, 64, 64, 32), 0],\n",
        "            ['MaxPooling2D', (None, 32, 32, 32), 0, (2, 2), (2, 2), 'valid'],\n",
        "            ['Flatten', (None, 32768), 0],\n",
        "            ['Dense', (None, 1), 32769, 'sigmoid']]\n",
        "    \n",
        "comparator(summary(happy_model), output)"
      ]
    },
    {
      "cell_type": "markdown",
      "metadata": {
        "id": "iCIeRldps5Ip"
      },
      "source": [
        "Now that your model is created, you can compile it for training with an optimizer and loss of your choice. When the string `accuracy` is specified as a metric, the type of accuracy used will be automatically converted based on the loss function used. This is one of the many optimizations built into TensorFlow that make your life easier! If you'd like to read more on how the compiler operates, check the docs [here](https://www.tensorflow.org/api_docs/python/tf/keras/Model#compile)."
      ]
    },
    {
      "cell_type": "code",
      "execution_count": null,
      "metadata": {
        "id": "9MO0b_KGs5Ip"
      },
      "outputs": [],
      "source": [
        "happy_model.compile(optimizer='adam',\n",
        "                   loss='binary_crossentropy',\n",
        "                   metrics=['accuracy'])"
      ]
    },
    {
      "cell_type": "markdown",
      "metadata": {
        "id": "zkJrVdzgs5Ip"
      },
      "source": [
        "It's time to check your model's parameters with the `.summary()` method. This will display the types of layers you have, the shape of the outputs, and how many parameters are in each layer. "
      ]
    },
    {
      "cell_type": "code",
      "execution_count": null,
      "metadata": {
        "id": "uOL0F2GDs5Ip",
        "outputId": "f8bb2024-db1d-4340-837a-a6af065602ae"
      },
      "outputs": [
        {
          "name": "stdout",
          "output_type": "stream",
          "text": [
            "Model: \"sequential\"\n",
            "_________________________________________________________________\n",
            "Layer (type)                 Output Shape              Param #   \n",
            "=================================================================\n",
            "zero_padding2d (ZeroPadding2 (None, 70, 70, 3)         0         \n",
            "_________________________________________________________________\n",
            "conv2d (Conv2D)              (None, 64, 64, 32)        4736      \n",
            "_________________________________________________________________\n",
            "batch_normalization (BatchNo (None, 64, 64, 32)        128       \n",
            "_________________________________________________________________\n",
            "re_lu (ReLU)                 (None, 64, 64, 32)        0         \n",
            "_________________________________________________________________\n",
            "max_pooling2d (MaxPooling2D) (None, 32, 32, 32)        0         \n",
            "_________________________________________________________________\n",
            "flatten (Flatten)            (None, 32768)             0         \n",
            "_________________________________________________________________\n",
            "dense (Dense)                (None, 1)                 32769     \n",
            "=================================================================\n",
            "Total params: 37,633\n",
            "Trainable params: 37,569\n",
            "Non-trainable params: 64\n",
            "_________________________________________________________________\n"
          ]
        }
      ],
      "source": [
        "happy_model.summary()"
      ]
    },
    {
      "cell_type": "markdown",
      "metadata": {
        "id": "PI4wR-cJs5Iq"
      },
      "source": [
        "<a name='3-2'></a>\n",
        "### 3.2 - Train and Evaluate the Model\n",
        "\n",
        "After creating the model, compiling it with your choice of optimizer and loss function, and doing a sanity check on its contents, you are now ready to build! \n",
        "\n",
        "Simply call `.fit()` to train. That's it! No need for mini-batching, saving, or complex backpropagation computations. That's all been done for you, as you're using a TensorFlow dataset with the batches specified already. You do have the option to specify epoch number or minibatch size if you like (for example, in the case of an un-batched dataset)."
      ]
    },
    {
      "cell_type": "code",
      "execution_count": null,
      "metadata": {
        "id": "GBWLzJT_s5Iq",
        "outputId": "3d835467-8138-4a78-9041-e7eb87ac2ba3"
      },
      "outputs": [
        {
          "name": "stdout",
          "output_type": "stream",
          "text": [
            "Epoch 1/10\n",
            "38/38 [==============================] - 4s 102ms/step - loss: 1.3625 - accuracy: 0.6900\n",
            "Epoch 2/10\n",
            "38/38 [==============================] - 4s 98ms/step - loss: 0.2828 - accuracy: 0.8800\n",
            "Epoch 3/10\n",
            "38/38 [==============================] - 4s 98ms/step - loss: 0.2682 - accuracy: 0.9017\n",
            "Epoch 4/10\n",
            "38/38 [==============================] - 4s 97ms/step - loss: 0.1971 - accuracy: 0.9167\n",
            "Epoch 5/10\n",
            "38/38 [==============================] - 4s 97ms/step - loss: 0.1728 - accuracy: 0.9400\n",
            "Epoch 6/10\n",
            "38/38 [==============================] - 4s 95ms/step - loss: 0.1524 - accuracy: 0.9417\n",
            "Epoch 7/10\n",
            "38/38 [==============================] - 4s 97ms/step - loss: 0.0950 - accuracy: 0.9700\n",
            "Epoch 8/10\n",
            "38/38 [==============================] - 4s 95ms/step - loss: 0.1672 - accuracy: 0.9283\n",
            "Epoch 9/10\n",
            "38/38 [==============================] - 4s 97ms/step - loss: 0.2046 - accuracy: 0.9200\n",
            "Epoch 10/10\n",
            "38/38 [==============================] - 4s 95ms/step - loss: 0.0950 - accuracy: 0.9633\n"
          ]
        },
        {
          "data": {
            "text/plain": [
              "<tensorflow.python.keras.callbacks.History at 0x7fbc6d564090>"
            ]
          },
          "execution_count": 8,
          "metadata": {},
          "output_type": "execute_result"
        }
      ],
      "source": [
        "happy_model.fit(X_train, Y_train, epochs=10, batch_size=16)"
      ]
    },
    {
      "cell_type": "markdown",
      "metadata": {
        "id": "yq-PZUGNs5Iq"
      },
      "source": [
        "After that completes, just use `.evaluate()` to evaluate against your test set. This function will print the value of the loss function and the performance metrics specified during the compilation of the model. In this case, the `binary_crossentropy` and the `accuracy` respectively."
      ]
    },
    {
      "cell_type": "code",
      "execution_count": null,
      "metadata": {
        "id": "IgjnA3I7s5Iq",
        "outputId": "235aa336-7526-4598-82da-7dba7a06c1dd"
      },
      "outputs": [
        {
          "name": "stdout",
          "output_type": "stream",
          "text": [
            "5/5 [==============================] - 0s 35ms/step - loss: 0.1581 - accuracy: 0.9400\n"
          ]
        },
        {
          "data": {
            "text/plain": [
              "[0.15810918807983398, 0.9399999976158142]"
            ]
          },
          "execution_count": 9,
          "metadata": {},
          "output_type": "execute_result"
        }
      ],
      "source": [
        "happy_model.evaluate(X_test, Y_test)"
      ]
    },
    {
      "cell_type": "markdown",
      "metadata": {
        "id": "wjf6oKmWs5Iq"
      },
      "source": [
        "Easy, right? But what if you need to build a model with shared layers, branches, or multiple inputs and outputs? This is where Sequential, with its beautifully simple yet limited functionality, won't be able to help you. \n",
        "\n",
        "Next up: Enter the Functional API, your slightly more complex, highly flexible friend.  "
      ]
    },
    {
      "cell_type": "markdown",
      "metadata": {
        "id": "yceQq-c4s5Iq"
      },
      "source": [
        "<a name='4'></a>\n",
        "## 4 - The Functional API"
      ]
    },
    {
      "cell_type": "markdown",
      "metadata": {
        "id": "bFxw15rhs5Ir"
      },
      "source": [
        "Welcome to the second half of the assignment, where you'll use Keras' flexible [Functional API](https://www.tensorflow.org/guide/keras/functional) to build a ConvNet that can differentiate between 6 sign language digits. \n",
        "\n",
        "The Functional API can handle models with non-linear topology, shared layers, as well as layers with multiple inputs or outputs. Imagine that, where the Sequential API requires the model to move in a linear fashion through its layers, the Functional API allows much more flexibility. Where Sequential is a straight line, a Functional model is a graph, where the nodes of the layers can connect in many more ways than one. \n",
        "\n",
        "In the visual example below, the one possible direction of the movement Sequential model is shown in contrast to a skip connection, which is just one of the many ways a Functional model can be constructed. A skip connection, as you might have guessed, skips some layer in the network and feeds the output to a later layer in the network. Don't worry, you'll be spending more time with skip connections very soon! "
      ]
    },
    {
      "cell_type": "markdown",
      "metadata": {
        "id": "IPKkIuzis5Ir"
      },
      "source": [
        "<img src=\"images/seq_vs_func.png\" style=\"width:350px;height:200px;\">"
      ]
    },
    {
      "cell_type": "markdown",
      "metadata": {
        "id": "eV81Mf46s5Ir"
      },
      "source": [
        "<a name='4-1'></a>\n",
        "### 4.1 - Load the SIGNS Dataset\n",
        "\n",
        "As a reminder, the SIGNS dataset is a collection of 6 signs representing numbers from 0 to 5."
      ]
    },
    {
      "cell_type": "code",
      "execution_count": null,
      "metadata": {
        "id": "OeG2hl6Cs5Ir"
      },
      "outputs": [],
      "source": [
        "# Loading the data (signs)\n",
        "X_train_orig, Y_train_orig, X_test_orig, Y_test_orig, classes = load_signs_dataset()"
      ]
    },
    {
      "cell_type": "markdown",
      "metadata": {
        "id": "g-Rd7Jgls5Ir"
      },
      "source": [
        "<img src=\"images/SIGNS.png\" style=\"width:800px;height:300px;\">\n",
        "\n",
        "The next cell will show you an example of a labelled image in the dataset. Feel free to change the value of `index` below and re-run to see different examples. "
      ]
    },
    {
      "cell_type": "code",
      "execution_count": null,
      "metadata": {
        "id": "arI_Dd6Vs5Ir",
        "outputId": "8a23a928-4ea4-4617-f879-5dd95b2c13a6"
      },
      "outputs": [
        {
          "name": "stdout",
          "output_type": "stream",
          "text": [
            "y = 4\n"
          ]
        },
        {
          "data": {
            "image/png": "[encoded data removed]",
            "text/plain": [
              "<Figure size 432x288 with 1 Axes>"
            ]
          },
          "metadata": {
            "needs_background": "light"
          },
          "output_type": "display_data"
        }
      ],
      "source": [
        "# Example of an image from the dataset\n",
        "index = 9\n",
        "plt.imshow(X_train_orig[index])\n",
        "print (\"y = \" + str(np.squeeze(Y_train_orig[:, index])))"
      ]
    },
    {
      "cell_type": "markdown",
      "metadata": {
        "id": "CvKwDRAbs5Is"
      },
      "source": [
        "<a name='4-2'></a>\n",
        "### 4.2 - Split the Data into Train/Test Sets\n",
        "\n",
        "In Course 2, you built a fully-connected network for this dataset. But since this is an image dataset, it is more natural to apply a ConvNet to it.\n",
        "\n",
        "To get started, let's examine the shapes of your data. "
      ]
    },
    {
      "cell_type": "code",
      "execution_count": null,
      "metadata": {
        "id": "i9t9TniNs5Is",
        "outputId": "69b21064-57f1-4c13-e813-bf8ce276bebb"
      },
      "outputs": [
        {
          "name": "stdout",
          "output_type": "stream",
          "text": [
            "number of training examples = 1080\n",
            "number of test examples = 120\n",
            "X_train shape: (1080, 64, 64, 3)\n",
            "Y_train shape: (1080, 6)\n",
            "X_test shape: (120, 64, 64, 3)\n",
            "Y_test shape: (120, 6)\n"
          ]
        }
      ],
      "source": [
        "X_train = X_train_orig/255.\n",
        "X_test = X_test_orig/255.\n",
        "Y_train = convert_to_one_hot(Y_train_orig, 6).T\n",
        "Y_test = convert_to_one_hot(Y_test_orig, 6).T\n",
        "print (\"number of training examples = \" + str(X_train.shape[0]))\n",
        "print (\"number of test examples = \" + str(X_test.shape[0]))\n",
        "print (\"X_train shape: \" + str(X_train.shape))\n",
        "print (\"Y_train shape: \" + str(Y_train.shape))\n",
        "print (\"X_test shape: \" + str(X_test.shape))\n",
        "print (\"Y_test shape: \" + str(Y_test.shape))"
      ]
    },
    {
      "cell_type": "markdown",
      "metadata": {
        "id": "H7DvVN4Zs5Is"
      },
      "source": [
        "<a name='4-3'></a>\n",
        "### 4.3 - Forward Propagation\n",
        "\n",
        "In TensorFlow, there are built-in functions that implement the convolution steps for you. By now, you should be familiar with how TensorFlow builds computational graphs. In the [Functional API](https://www.tensorflow.org/guide/keras/functional), you create a graph of layers. This is what allows such great flexibility.\n",
        "\n",
        "However, the following model could also be defined using the Sequential API since the information flow is on a single line. But don't deviate. What we want you to learn is to use the functional API.\n",
        "\n",
        "Begin building your graph of layers by creating an input node that functions as a callable object:\n",
        "\n",
        "- **input_img = tf.keras.Input(shape=input_shape):** \n",
        "\n",
        "Then, create a new node in the graph of layers by calling a layer on the `input_img` object: \n",
        "\n",
        "- **tf.keras.layers.Conv2D(filters= ... , kernel_size= ... , padding='same')(input_img):** Read the full documentation on [Conv2D](https://www.tensorflow.org/api_docs/python/tf/keras/layers/Conv2D).\n",
        "\n",
        "- **tf.keras.layers.MaxPool2D(pool_size=(f, f), strides=(s, s), padding='same'):** `MaxPool2D()` downsamples your input using a window of size (f, f) and strides of size (s, s) to carry out max pooling over each window.  For max pooling, you usually operate on a single example at a time and a single channel at a time. Read the full documentation on [MaxPool2D](https://www.tensorflow.org/api_docs/python/tf/keras/layers/MaxPool2D).\n",
        "\n",
        "- **tf.keras.layers.ReLU():** computes the elementwise ReLU of Z (which can be any shape). You can read the full documentation on [ReLU](https://www.tensorflow.org/api_docs/python/tf/keras/layers/ReLU).\n",
        "\n",
        "- **tf.keras.layers.Flatten()**: given a tensor \"P\", this function takes each training (or test) example in the batch and flattens it into a 1D vector.  \n",
        "\n",
        "    * If a tensor P has the shape (batch_size,h,w,c), it returns a flattened tensor with shape (batch_size, k), where $k=h \\times w \\times c$.  \"k\" equals the product of all the dimension sizes other than the first dimension.\n",
        "    \n",
        "    * For example, given a tensor with dimensions [100, 2, 3, 4], it flattens the tensor to be of shape [100, 24], where 24 = 2 * 3 * 4.  You can read the full documentation on [Flatten](https://www.tensorflow.org/api_docs/python/tf/keras/layers/Flatten).\n",
        "\n",
        "- **tf.keras.layers.Dense(units= ... , activation='softmax')(F):** given the flattened input F, it returns the output computed using a fully connected layer. You can read the full documentation on [Dense](https://www.tensorflow.org/api_docs/python/tf/keras/layers/Dense).\n",
        "\n",
        "In the last function above (`tf.keras.layers.Dense()`), the fully connected layer automatically initializes weights in the graph and keeps on training them as you train the model. Hence, you did not need to initialize those weights when initializing the parameters.\n",
        "\n",
        "Lastly, before creating the model, you'll need to define the output using the last of the function's compositions (in this example, a Dense layer): \n",
        "\n",
        "- **outputs = tf.keras.layers.Dense(units=6, activation='softmax')(F)**\n",
        "\n",
        "\n",
        "#### Window, kernel, filter, pool\n",
        "\n",
        "The words \"kernel\" and \"filter\" are used to refer to the same thing. The word \"filter\" accounts for the amount of \"kernels\" that will be used in a single convolution layer. \"Pool\" is the name of the operation that takes the max or average value of the kernels. \n",
        "\n",
        "This is why the parameter `pool_size` refers to `kernel_size`, and you use `(f,f)` to refer to the filter size. \n",
        "\n",
        "Pool size and kernel size refer to the same thing in different objects - They refer to the shape of the window where the operation takes place. "
      ]
    },
    {
      "cell_type": "markdown",
      "metadata": {
        "id": "5QkdvEIbs5Is"
      },
      "source": [
        "<a name='ex-2'></a>\n",
        "### Exercise 2 - convolutional_model\n",
        "\n",
        "Implement the `convolutional_model` function below to build the following model: `CONV2D -> RELU -> MAXPOOL -> CONV2D -> RELU -> MAXPOOL -> FLATTEN -> DENSE`. Use the functions above! \n",
        "\n",
        "Also, plug in the following parameters for all the steps:\n",
        "\n",
        " - [Conv2D](https://www.tensorflow.org/api_docs/python/tf/keras/layers/Conv2D): Use 8 4 by 4 filters, stride 1, padding is \"SAME\"\n",
        " - [ReLU](https://www.tensorflow.org/api_docs/python/tf/keras/layers/ReLU)\n",
        " - [MaxPool2D](https://www.tensorflow.org/api_docs/python/tf/keras/layers/MaxPool2D): Use an 8 by 8 filter size and an 8 by 8 stride, padding is \"SAME\"\n",
        " - **Conv2D**: Use 16 2 by 2 filters, stride 1, padding is \"SAME\"\n",
        " - **ReLU**\n",
        " - **MaxPool2D**: Use a 4 by 4 filter size and a 4 by 4 stride, padding is \"SAME\"\n",
        " - [Flatten](https://www.tensorflow.org/api_docs/python/tf/keras/layers/Flatten) the previous output.\n",
        " - Fully-connected ([Dense](https://www.tensorflow.org/api_docs/python/tf/keras/layers/Dense)) layer: Apply a fully connected layer with 6 neurons and a softmax activation. "
      ]
    },
    {
      "cell_type": "code",
      "execution_count": null,
      "metadata": {
        "deletable": false,
        "nbgrader": {
          "cell_type": "code",
          "checksum": "f58643806aa8380c96225fc8b4c5e7aa",
          "grade": false,
          "grade_id": "cell-dac51744a9e03f51",
          "locked": false,
          "schema_version": 3,
          "solution": true,
          "task": false
        },
        "id": "WpC6Tdezs5Is"
      },
      "outputs": [],
      "source": [
        "# GRADED FUNCTION: convolutional_model\n",
        "\n",
        "def convolutional_model(input_shape):\n",
        "    \"\"\"\n",
        "    Implements the forward propagation for the model:\n",
        "    CONV2D -> RELU -> MAXPOOL -> CONV2D -> RELU -> MAXPOOL -> FLATTEN -> DENSE\n",
        "    \n",
        "    Note that for simplicity and grading purposes, you'll hard-code some values\n",
        "    such as the stride and kernel (filter) sizes. \n",
        "    Normally, functions should take these values as function parameters.\n",
        "    \n",
        "    Arguments:\n",
        "    input_img -- input dataset, of shape (input_shape)\n",
        "\n",
        "    Returns:\n",
        "    model -- TF Keras model (object containing the information for the entire training process) \n",
        "    \"\"\"\n",
        "\n",
        "    input_img = tf.keras.Input(shape=input_shape)\n",
        "    ## CONV2D: 8 filters 4x4, stride of 1, padding 'SAME'\n",
        "    # Z1 = None\n",
        "    ## RELU\n",
        "    # A1 = None\n",
        "    ## MAXPOOL: window 8x8, stride 8, padding 'SAME'\n",
        "    # P1 = None\n",
        "    ## CONV2D: 16 filters 2x2, stride 1, padding 'SAME'\n",
        "    # Z2 = None\n",
        "    ## RELU\n",
        "    # A2 = None\n",
        "    ## MAXPOOL: window 4x4, stride 4, padding 'SAME'\n",
        "    # P2 = None\n",
        "    ## FLATTEN\n",
        "    # F = None\n",
        "    ## Dense layer\n",
        "    ## 6 neurons in output layer. Hint: one of the arguments should be \"activation='softmax'\" \n",
        "    # outputs = None\n",
        "    # YOUR CODE STARTS HERE\n",
        "    Z1 = tfl.Conv2D(8, 4, activation='linear', padding=\"same\", strides=1)(input_img)\n",
        "    A1 = tfl.ReLU()(Z1)\n",
        "    P1 = tfl.MaxPool2D(pool_size=(8, 8), strides=(8, 8), padding='same')(A1)\n",
        "    Z2 = tfl.Conv2D(16, 2, activation='linear', padding=\"same\", strides=1)(P1)\n",
        "    A2 = tfl.ReLU()(Z2)\n",
        "    P2 = tfl.MaxPool2D(pool_size=(4, 4), strides=(4, 4), padding='same')(A2)\n",
        "    F = tfl.Flatten()(P2)\n",
        "    outputs = tfl.Dense(6, activation='softmax')(F)\n",
        "    \n",
        "    # YOUR CODE ENDS HERE\n",
        "    model = tf.keras.Model(inputs=input_img, outputs=outputs)\n",
        "    return model"
      ]
    },
    {
      "cell_type": "code",
      "execution_count": null,
      "metadata": {
        "deletable": false,
        "editable": false,
        "nbgrader": {
          "cell_type": "code",
          "checksum": "483d626949930a0b0ef20997e7c6ba72",
          "grade": true,
          "grade_id": "cell-45d22e92042174c9",
          "locked": true,
          "points": 10,
          "schema_version": 3,
          "solution": false,
          "task": false
        },
        "id": "7nFEUnXfs5Is",
        "outputId": "6790be4e-4a6f-44b4-a58a-0893d96c70c0"
      },
      "outputs": [
        {
          "name": "stdout",
          "output_type": "stream",
          "text": [
            "Model: \"functional_3\"\n",
            "_________________________________________________________________\n",
            "Layer (type)                 Output Shape              Param #   \n",
            "=================================================================\n",
            "input_2 (InputLayer)         [(None, 64, 64, 3)]       0         \n",
            "_________________________________________________________________\n",
            "conv2d_3 (Conv2D)            (None, 64, 64, 8)         392       \n",
            "_________________________________________________________________\n",
            "re_lu_3 (ReLU)               (None, 64, 64, 8)         0         \n",
            "_________________________________________________________________\n",
            "max_pooling2d_3 (MaxPooling2 (None, 8, 8, 8)           0         \n",
            "_________________________________________________________________\n",
            "conv2d_4 (Conv2D)            (None, 8, 8, 16)          528       \n",
            "_________________________________________________________________\n",
            "re_lu_4 (ReLU)               (None, 8, 8, 16)          0         \n",
            "_________________________________________________________________\n",
            "max_pooling2d_4 (MaxPooling2 (None, 2, 2, 16)          0         \n",
            "_________________________________________________________________\n",
            "flatten_2 (Flatten)          (None, 64)                0         \n",
            "_________________________________________________________________\n",
            "dense_2 (Dense)              (None, 6)                 390       \n",
            "=================================================================\n",
            "Total params: 1,310\n",
            "Trainable params: 1,310\n",
            "Non-trainable params: 0\n",
            "_________________________________________________________________\n",
            "\u001b[32mAll tests passed!\u001b[0m\n"
          ]
        }
      ],
      "source": [
        "conv_model = convolutional_model((64, 64, 3))\n",
        "conv_model.compile(optimizer='adam',\n",
        "                  loss='categorical_crossentropy',\n",
        "                  metrics=['accuracy'])\n",
        "conv_model.summary()\n",
        "    \n",
        "output = [['InputLayer', [(None, 64, 64, 3)], 0],\n",
        "        ['Conv2D', (None, 64, 64, 8), 392, 'same', 'linear', 'GlorotUniform'],\n",
        "        ['ReLU', (None, 64, 64, 8), 0],\n",
        "        ['MaxPooling2D', (None, 8, 8, 8), 0, (8, 8), (8, 8), 'same'],\n",
        "        ['Conv2D', (None, 8, 8, 16), 528, 'same', 'linear', 'GlorotUniform'],\n",
        "        ['ReLU', (None, 8, 8, 16), 0],\n",
        "        ['MaxPooling2D', (None, 2, 2, 16), 0, (4, 4), (4, 4), 'same'],\n",
        "        ['Flatten', (None, 64), 0],\n",
        "        ['Dense', (None, 6), 390, 'softmax']]\n",
        "    \n",
        "comparator(summary(conv_model), output)"
      ]
    },
    {
      "cell_type": "markdown",
      "metadata": {
        "id": "tcmWYM08s5It"
      },
      "source": [
        "Both the Sequential and Functional APIs return a TF Keras model object. The only difference is how inputs are handled inside the object model! "
      ]
    },
    {
      "cell_type": "markdown",
      "metadata": {
        "id": "2n46Gd-Js5It"
      },
      "source": [
        "<a name='4-4'></a>\n",
        "### 4.4 - Train the Model"
      ]
    },
    {
      "cell_type": "code",
      "execution_count": null,
      "metadata": {
        "id": "582z0phBs5It",
        "outputId": "e7b9e7e4-919b-49d2-9198-3a601fafb68b"
      },
      "outputs": [
        {
          "name": "stdout",
          "output_type": "stream",
          "text": [
            "Epoch 1/100\n",
            "17/17 [==============================] - 2s 112ms/step - loss: 1.7918 - accuracy: 0.1806 - val_loss: 1.7849 - val_accuracy: 0.2333\n",
            "Epoch 2/100\n",
            "17/17 [==============================] - 2s 106ms/step - loss: 1.7823 - accuracy: 0.2222 - val_loss: 1.7798 - val_accuracy: 0.2917\n",
            "Epoch 3/100\n",
            "17/17 [==============================] - 2s 106ms/step - loss: 1.7753 - accuracy: 0.2556 - val_loss: 1.7724 - val_accuracy: 0.2917\n",
            "Epoch 4/100\n",
            "17/17 [==============================] - 2s 106ms/step - loss: 1.7678 - accuracy: 0.2769 - val_loss: 1.7630 - val_accuracy: 0.3083\n",
            "Epoch 5/100\n",
            "17/17 [==============================] - 2s 111ms/step - loss: 1.7548 - accuracy: 0.3306 - val_loss: 1.7516 - val_accuracy: 0.3917\n",
            "Epoch 6/100\n",
            "17/17 [==============================] - 2s 106ms/step - loss: 1.7386 - accuracy: 0.3898 - val_loss: 1.7367 - val_accuracy: 0.4083\n",
            "Epoch 7/100\n",
            "17/17 [==============================] - 2s 107ms/step - loss: 1.7192 - accuracy: 0.4241 - val_loss: 1.7184 - val_accuracy: 0.4417\n",
            "Epoch 8/100\n",
            "17/17 [==============================] - 2s 106ms/step - loss: 1.6948 - accuracy: 0.4556 - val_loss: 1.6964 - val_accuracy: 0.4417\n",
            "Epoch 9/100\n",
            "17/17 [==============================] - 2s 106ms/step - loss: 1.6645 - accuracy: 0.4676 - val_loss: 1.6683 - val_accuracy: 0.4750\n",
            "Epoch 10/100\n",
            "17/17 [==============================] - 2s 107ms/step - loss: 1.6286 - accuracy: 0.4898 - val_loss: 1.6349 - val_accuracy: 0.4583\n",
            "Epoch 11/100\n",
            "17/17 [==============================] - 2s 106ms/step - loss: 1.5852 - accuracy: 0.5065 - val_loss: 1.5945 - val_accuracy: 0.4833\n",
            "Epoch 12/100\n",
            "17/17 [==============================] - 2s 106ms/step - loss: 1.5369 - accuracy: 0.5111 - val_loss: 1.5498 - val_accuracy: 0.4833\n",
            "Epoch 13/100\n",
            "17/17 [==============================] - 2s 107ms/step - loss: 1.4850 - accuracy: 0.5204 - val_loss: 1.5027 - val_accuracy: 0.5000\n",
            "Epoch 14/100\n",
            "17/17 [==============================] - 2s 106ms/step - loss: 1.4300 - accuracy: 0.5324 - val_loss: 1.4533 - val_accuracy: 0.4833\n",
            "Epoch 15/100\n",
            "17/17 [==============================] - 2s 106ms/step - loss: 1.3754 - accuracy: 0.5500 - val_loss: 1.4022 - val_accuracy: 0.5250\n",
            "Epoch 16/100\n",
            "17/17 [==============================] - 2s 111ms/step - loss: 1.3207 - accuracy: 0.5611 - val_loss: 1.3540 - val_accuracy: 0.5333\n",
            "Epoch 17/100\n",
            "17/17 [==============================] - 2s 106ms/step - loss: 1.2687 - accuracy: 0.5731 - val_loss: 1.3033 - val_accuracy: 0.5500\n",
            "Epoch 18/100\n",
            "17/17 [==============================] - 2s 106ms/step - loss: 1.2182 - accuracy: 0.5870 - val_loss: 1.2567 - val_accuracy: 0.5500\n",
            "Epoch 19/100\n",
            "17/17 [==============================] - 2s 106ms/step - loss: 1.1729 - accuracy: 0.5981 - val_loss: 1.2104 - val_accuracy: 0.5583\n",
            "Epoch 20/100\n",
            "17/17 [==============================] - 2s 107ms/step - loss: 1.1320 - accuracy: 0.6093 - val_loss: 1.1676 - val_accuracy: 0.6000\n",
            "Epoch 21/100\n",
            "17/17 [==============================] - 2s 106ms/step - loss: 1.0922 - accuracy: 0.6167 - val_loss: 1.1278 - val_accuracy: 0.6333\n",
            "Epoch 22/100\n",
            "17/17 [==============================] - 2s 106ms/step - loss: 1.0561 - accuracy: 0.6333 - val_loss: 1.0894 - val_accuracy: 0.6417\n",
            "Epoch 23/100\n",
            "17/17 [==============================] - 2s 106ms/step - loss: 1.0226 - accuracy: 0.6454 - val_loss: 1.0532 - val_accuracy: 0.6917\n",
            "Epoch 24/100\n",
            "17/17 [==============================] - 2s 106ms/step - loss: 0.9907 - accuracy: 0.6519 - val_loss: 1.0193 - val_accuracy: 0.7083\n",
            "Epoch 25/100\n",
            "17/17 [==============================] - 2s 106ms/step - loss: 0.9618 - accuracy: 0.6639 - val_loss: 0.9871 - val_accuracy: 0.7250\n",
            "Epoch 26/100\n",
            "17/17 [==============================] - 2s 106ms/step - loss: 0.9343 - accuracy: 0.6750 - val_loss: 0.9571 - val_accuracy: 0.7167\n",
            "Epoch 27/100\n",
            "17/17 [==============================] - 2s 106ms/step - loss: 0.9092 - accuracy: 0.6778 - val_loss: 0.9314 - val_accuracy: 0.7167\n",
            "Epoch 28/100\n",
            "17/17 [==============================] - 2s 107ms/step - loss: 0.8853 - accuracy: 0.6972 - val_loss: 0.9067 - val_accuracy: 0.7167\n",
            "Epoch 29/100\n",
            "17/17 [==============================] - 2s 106ms/step - loss: 0.8639 - accuracy: 0.7046 - val_loss: 0.8837 - val_accuracy: 0.7250\n",
            "Epoch 30/100\n",
            "17/17 [==============================] - 2s 112ms/step - loss: 0.8437 - accuracy: 0.7120 - val_loss: 0.8635 - val_accuracy: 0.7167\n",
            "Epoch 31/100\n",
            "17/17 [==============================] - 2s 106ms/step - loss: 0.8244 - accuracy: 0.7250 - val_loss: 0.8437 - val_accuracy: 0.7333\n",
            "Epoch 32/100\n",
            "17/17 [==============================] - 2s 106ms/step - loss: 0.8063 - accuracy: 0.7333 - val_loss: 0.8245 - val_accuracy: 0.7500\n",
            "Epoch 33/100\n",
            "17/17 [==============================] - 2s 106ms/step - loss: 0.7895 - accuracy: 0.7398 - val_loss: 0.8071 - val_accuracy: 0.7583\n",
            "Epoch 34/100\n",
            "17/17 [==============================] - 2s 106ms/step - loss: 0.7726 - accuracy: 0.7444 - val_loss: 0.7902 - val_accuracy: 0.7583\n",
            "Epoch 35/100\n",
            "17/17 [==============================] - 2s 106ms/step - loss: 0.7572 - accuracy: 0.7481 - val_loss: 0.7741 - val_accuracy: 0.7583\n",
            "Epoch 36/100\n",
            "17/17 [==============================] - 2s 106ms/step - loss: 0.7423 - accuracy: 0.7556 - val_loss: 0.7592 - val_accuracy: 0.7667\n",
            "Epoch 37/100\n",
            "17/17 [==============================] - 2s 111ms/step - loss: 0.7280 - accuracy: 0.7602 - val_loss: 0.7444 - val_accuracy: 0.7750\n",
            "Epoch 38/100\n",
            "17/17 [==============================] - 2s 106ms/step - loss: 0.7147 - accuracy: 0.7639 - val_loss: 0.7314 - val_accuracy: 0.7750\n",
            "Epoch 39/100\n",
            "17/17 [==============================] - 2s 106ms/step - loss: 0.7016 - accuracy: 0.7667 - val_loss: 0.7182 - val_accuracy: 0.7750\n",
            "Epoch 40/100\n",
            "17/17 [==============================] - 2s 106ms/step - loss: 0.6892 - accuracy: 0.7704 - val_loss: 0.7062 - val_accuracy: 0.7750\n",
            "Epoch 41/100\n",
            "17/17 [==============================] - 2s 106ms/step - loss: 0.6770 - accuracy: 0.7741 - val_loss: 0.6946 - val_accuracy: 0.7833\n",
            "Epoch 42/100\n",
            "17/17 [==============================] - 2s 106ms/step - loss: 0.6654 - accuracy: 0.7787 - val_loss: 0.6839 - val_accuracy: 0.7750\n",
            "Epoch 43/100\n",
            "17/17 [==============================] - 2s 106ms/step - loss: 0.6543 - accuracy: 0.7778 - val_loss: 0.6732 - val_accuracy: 0.7750\n",
            "Epoch 44/100\n",
            "17/17 [==============================] - 2s 106ms/step - loss: 0.6434 - accuracy: 0.7833 - val_loss: 0.6637 - val_accuracy: 0.7833\n",
            "Epoch 45/100\n",
            "17/17 [==============================] - 2s 106ms/step - loss: 0.6333 - accuracy: 0.7843 - val_loss: 0.6532 - val_accuracy: 0.7917\n",
            "Epoch 46/100\n",
            "17/17 [==============================] - 2s 106ms/step - loss: 0.6231 - accuracy: 0.7907 - val_loss: 0.6442 - val_accuracy: 0.7917\n",
            "Epoch 47/100\n",
            "17/17 [==============================] - 2s 106ms/step - loss: 0.6137 - accuracy: 0.7926 - val_loss: 0.6355 - val_accuracy: 0.7833\n",
            "Epoch 48/100\n",
            "17/17 [==============================] - 2s 106ms/step - loss: 0.6046 - accuracy: 0.7972 - val_loss: 0.6271 - val_accuracy: 0.7833\n",
            "Epoch 49/100\n",
            "17/17 [==============================] - 2s 106ms/step - loss: 0.5955 - accuracy: 0.8000 - val_loss: 0.6183 - val_accuracy: 0.7833\n",
            "Epoch 50/100\n",
            "17/17 [==============================] - 2s 106ms/step - loss: 0.5866 - accuracy: 0.8037 - val_loss: 0.6100 - val_accuracy: 0.7833\n",
            "Epoch 51/100\n",
            "17/17 [==============================] - 2s 106ms/step - loss: 0.5780 - accuracy: 0.8130 - val_loss: 0.6031 - val_accuracy: 0.7833\n",
            "Epoch 52/100\n",
            "17/17 [==============================] - 2s 101ms/step - loss: 0.5694 - accuracy: 0.8194 - val_loss: 0.5948 - val_accuracy: 0.7917\n",
            "Epoch 53/100\n",
            "17/17 [==============================] - 2s 106ms/step - loss: 0.5610 - accuracy: 0.8231 - val_loss: 0.5874 - val_accuracy: 0.8000\n",
            "Epoch 54/100\n",
            "17/17 [==============================] - 2s 106ms/step - loss: 0.5533 - accuracy: 0.8231 - val_loss: 0.5815 - val_accuracy: 0.8000\n",
            "Epoch 55/100\n",
            "17/17 [==============================] - 2s 106ms/step - loss: 0.5452 - accuracy: 0.8296 - val_loss: 0.5738 - val_accuracy: 0.8000\n",
            "Epoch 56/100\n",
            "17/17 [==============================] - 2s 106ms/step - loss: 0.5382 - accuracy: 0.8306 - val_loss: 0.5676 - val_accuracy: 0.8000\n",
            "Epoch 57/100\n",
            "17/17 [==============================] - 2s 111ms/step - loss: 0.5304 - accuracy: 0.8352 - val_loss: 0.5611 - val_accuracy: 0.8083\n"
          ]
        },
        {
          "name": "stdout",
          "output_type": "stream",
          "text": [
            "Epoch 58/100\n",
            "17/17 [==============================] - 2s 111ms/step - loss: 0.5237 - accuracy: 0.8343 - val_loss: 0.5540 - val_accuracy: 0.8167\n",
            "Epoch 59/100\n",
            "17/17 [==============================] - 2s 111ms/step - loss: 0.5162 - accuracy: 0.8370 - val_loss: 0.5496 - val_accuracy: 0.8167\n",
            "Epoch 60/100\n",
            "17/17 [==============================] - 2s 112ms/step - loss: 0.5101 - accuracy: 0.8426 - val_loss: 0.5432 - val_accuracy: 0.8167\n",
            "Epoch 61/100\n",
            "17/17 [==============================] - 2s 106ms/step - loss: 0.5031 - accuracy: 0.8435 - val_loss: 0.5382 - val_accuracy: 0.8167\n",
            "Epoch 62/100\n",
            "17/17 [==============================] - 2s 112ms/step - loss: 0.4968 - accuracy: 0.8463 - val_loss: 0.5330 - val_accuracy: 0.8167\n",
            "Epoch 63/100\n",
            "17/17 [==============================] - 2s 117ms/step - loss: 0.4906 - accuracy: 0.8509 - val_loss: 0.5281 - val_accuracy: 0.8250\n",
            "Epoch 64/100\n",
            "17/17 [==============================] - 2s 107ms/step - loss: 0.4850 - accuracy: 0.8500 - val_loss: 0.5218 - val_accuracy: 0.8250\n",
            "Epoch 65/100\n",
            "17/17 [==============================] - 2s 106ms/step - loss: 0.4786 - accuracy: 0.8537 - val_loss: 0.5188 - val_accuracy: 0.8250\n",
            "Epoch 66/100\n",
            "17/17 [==============================] - 2s 106ms/step - loss: 0.4731 - accuracy: 0.8583 - val_loss: 0.5137 - val_accuracy: 0.8250\n",
            "Epoch 67/100\n",
            "17/17 [==============================] - 2s 111ms/step - loss: 0.4669 - accuracy: 0.8583 - val_loss: 0.5115 - val_accuracy: 0.8250\n",
            "Epoch 68/100\n",
            "17/17 [==============================] - 2s 111ms/step - loss: 0.4618 - accuracy: 0.8611 - val_loss: 0.5064 - val_accuracy: 0.8250\n",
            "Epoch 69/100\n",
            "17/17 [==============================] - 2s 111ms/step - loss: 0.4558 - accuracy: 0.8593 - val_loss: 0.5061 - val_accuracy: 0.8250\n",
            "Epoch 70/100\n",
            "17/17 [==============================] - 2s 107ms/step - loss: 0.4514 - accuracy: 0.8593 - val_loss: 0.5002 - val_accuracy: 0.8167\n",
            "Epoch 71/100\n",
            "17/17 [==============================] - 2s 106ms/step - loss: 0.4455 - accuracy: 0.8611 - val_loss: 0.4988 - val_accuracy: 0.8167\n",
            "Epoch 72/100\n",
            "17/17 [==============================] - 2s 111ms/step - loss: 0.4405 - accuracy: 0.8648 - val_loss: 0.4930 - val_accuracy: 0.8167\n",
            "Epoch 73/100\n",
            "17/17 [==============================] - 2s 106ms/step - loss: 0.4347 - accuracy: 0.8667 - val_loss: 0.4938 - val_accuracy: 0.8167\n",
            "Epoch 74/100\n",
            "17/17 [==============================] - 2s 106ms/step - loss: 0.4303 - accuracy: 0.8676 - val_loss: 0.4871 - val_accuracy: 0.8250\n",
            "Epoch 75/100\n",
            "17/17 [==============================] - 2s 106ms/step - loss: 0.4249 - accuracy: 0.8713 - val_loss: 0.4879 - val_accuracy: 0.8250\n",
            "Epoch 76/100\n",
            "17/17 [==============================] - 2s 111ms/step - loss: 0.4205 - accuracy: 0.8694 - val_loss: 0.4821 - val_accuracy: 0.8250\n",
            "Epoch 77/100\n",
            "17/17 [==============================] - 2s 107ms/step - loss: 0.4153 - accuracy: 0.8750 - val_loss: 0.4810 - val_accuracy: 0.8333\n",
            "Epoch 78/100\n",
            "17/17 [==============================] - 2s 106ms/step - loss: 0.4109 - accuracy: 0.8750 - val_loss: 0.4775 - val_accuracy: 0.8250\n",
            "Epoch 79/100\n",
            "17/17 [==============================] - 2s 106ms/step - loss: 0.4060 - accuracy: 0.8769 - val_loss: 0.4766 - val_accuracy: 0.8167\n",
            "Epoch 80/100\n",
            "17/17 [==============================] - 2s 106ms/step - loss: 0.4021 - accuracy: 0.8769 - val_loss: 0.4729 - val_accuracy: 0.8250\n",
            "Epoch 81/100\n",
            "17/17 [==============================] - 2s 106ms/step - loss: 0.3973 - accuracy: 0.8787 - val_loss: 0.4717 - val_accuracy: 0.8250\n",
            "Epoch 82/100\n",
            "17/17 [==============================] - 2s 106ms/step - loss: 0.3930 - accuracy: 0.8815 - val_loss: 0.4689 - val_accuracy: 0.8167\n",
            "Epoch 83/100\n",
            "17/17 [==============================] - 2s 106ms/step - loss: 0.3888 - accuracy: 0.8833 - val_loss: 0.4664 - val_accuracy: 0.8167\n",
            "Epoch 84/100\n",
            "17/17 [==============================] - 2s 107ms/step - loss: 0.3846 - accuracy: 0.8852 - val_loss: 0.4632 - val_accuracy: 0.8167\n",
            "Epoch 85/100\n",
            "17/17 [==============================] - 2s 106ms/step - loss: 0.3801 - accuracy: 0.8861 - val_loss: 0.4614 - val_accuracy: 0.8167\n",
            "Epoch 86/100\n",
            "17/17 [==============================] - 2s 106ms/step - loss: 0.3761 - accuracy: 0.8889 - val_loss: 0.4583 - val_accuracy: 0.8333\n",
            "Epoch 87/100\n",
            "17/17 [==============================] - 2s 106ms/step - loss: 0.3722 - accuracy: 0.8917 - val_loss: 0.4553 - val_accuracy: 0.8167\n",
            "Epoch 88/100\n",
            "17/17 [==============================] - 2s 106ms/step - loss: 0.3684 - accuracy: 0.8917 - val_loss: 0.4535 - val_accuracy: 0.8333\n",
            "Epoch 89/100\n",
            "17/17 [==============================] - 2s 106ms/step - loss: 0.3647 - accuracy: 0.8935 - val_loss: 0.4505 - val_accuracy: 0.8333\n",
            "Epoch 90/100\n",
            "17/17 [==============================] - 2s 106ms/step - loss: 0.3607 - accuracy: 0.8944 - val_loss: 0.4476 - val_accuracy: 0.8333\n",
            "Epoch 91/100\n",
            "17/17 [==============================] - 2s 106ms/step - loss: 0.3570 - accuracy: 0.8954 - val_loss: 0.4453 - val_accuracy: 0.8333\n",
            "Epoch 92/100\n",
            "17/17 [==============================] - 2s 106ms/step - loss: 0.3532 - accuracy: 0.8963 - val_loss: 0.4419 - val_accuracy: 0.8333\n",
            "Epoch 93/100\n",
            "17/17 [==============================] - 2s 111ms/step - loss: 0.3494 - accuracy: 0.9000 - val_loss: 0.4400 - val_accuracy: 0.8333\n",
            "Epoch 94/100\n",
            "17/17 [==============================] - 2s 111ms/step - loss: 0.3460 - accuracy: 0.9009 - val_loss: 0.4368 - val_accuracy: 0.8333\n",
            "Epoch 95/100\n",
            "17/17 [==============================] - 2s 111ms/step - loss: 0.3421 - accuracy: 0.9028 - val_loss: 0.4346 - val_accuracy: 0.8333\n",
            "Epoch 96/100\n",
            "17/17 [==============================] - 2s 107ms/step - loss: 0.3388 - accuracy: 0.9065 - val_loss: 0.4332 - val_accuracy: 0.8333\n",
            "Epoch 97/100\n",
            "17/17 [==============================] - 2s 107ms/step - loss: 0.3357 - accuracy: 0.9046 - val_loss: 0.4306 - val_accuracy: 0.8333\n",
            "Epoch 98/100\n",
            "17/17 [==============================] - 2s 106ms/step - loss: 0.3321 - accuracy: 0.9065 - val_loss: 0.4284 - val_accuracy: 0.8417\n",
            "Epoch 99/100\n",
            "17/17 [==============================] - 2s 101ms/step - loss: 0.3285 - accuracy: 0.9074 - val_loss: 0.4265 - val_accuracy: 0.8333\n",
            "Epoch 100/100\n",
            "17/17 [==============================] - 2s 106ms/step - loss: 0.3254 - accuracy: 0.9093 - val_loss: 0.4250 - val_accuracy: 0.8500\n"
          ]
        }
      ],
      "source": [
        "train_dataset = tf.data.Dataset.from_tensor_slices((X_train, Y_train)).batch(64)\n",
        "test_dataset = tf.data.Dataset.from_tensor_slices((X_test, Y_test)).batch(64)\n",
        "history = conv_model.fit(train_dataset, epochs=100, validation_data=test_dataset)"
      ]
    },
    {
      "cell_type": "markdown",
      "metadata": {
        "id": "qmMn7CH4s5It"
      },
      "source": [
        "<a name='5'></a>\n",
        "## 5 - History Object \n",
        "\n",
        "The history object is an output of the `.fit()` operation, and provides a record of all the loss and metric values in memory. It's stored as a dictionary that you can retrieve at `history.history`: "
      ]
    },
    {
      "cell_type": "code",
      "execution_count": null,
      "metadata": {
        "id": "ZBtfVqLns5It",
        "outputId": "c5c78487-d65f-492a-b9dd-646256139e83"
      },
      "outputs": [
        {
          "data": {
            "text/plain": [
              "{'loss': [1.7918148040771484,\n",
              "  1.782339334487915,\n",
              "  1.7753143310546875,\n",
              "  1.7678020000457764,\n",
              "  1.7547813653945923,\n",
              "  1.738600254058838,\n",
              "  1.7192409038543701,\n",
              "  1.6947901248931885,\n",
              "  1.6644887924194336,\n",
              "  1.6286427974700928,\n",
              "  1.5852439403533936,\n",
              "  1.5369187593460083,\n",
              "  1.4849568605422974,\n",
              "  1.4299917221069336,\n",
              "  1.3753641843795776,\n",
              "  1.3206992149353027,\n",
              "  1.2686798572540283,\n",
              "  1.2182130813598633,\n",
              "  1.1729260683059692,\n",
              "  1.132020354270935,\n",
              "  1.0922340154647827,\n",
              "  1.056077480316162,\n",
              "  1.0226212739944458,\n",
              "  0.9907191395759583,\n",
              "  0.9617832899093628,\n",
              "  0.9343377947807312,\n",
              "  0.909171998500824,\n",
              "  0.8852925896644592,\n",
              "  0.8639158010482788,\n",
              "  0.8437227606773376,\n",
              "  0.8244007229804993,\n",
              "  0.806296706199646,\n",
              "  0.789537250995636,\n",
              "  0.77260422706604,\n",
              "  0.7571950554847717,\n",
              "  0.7423480749130249,\n",
              "  0.7279650568962097,\n",
              "  0.7146663069725037,\n",
              "  0.7015859484672546,\n",
              "  0.689186692237854,\n",
              "  0.6769533753395081,\n",
              "  0.6653698086738586,\n",
              "  0.6543020009994507,\n",
              "  0.643390953540802,\n",
              "  0.6333120465278625,\n",
              "  0.6231110692024231,\n",
              "  0.6136800646781921,\n",
              "  0.6045887470245361,\n",
              "  0.5954726338386536,\n",
              "  0.5866021513938904,\n",
              "  0.577994167804718,\n",
              "  0.5694249868392944,\n",
              "  0.5609673261642456,\n",
              "  0.5532564520835876,\n",
              "  0.5451589226722717,\n",
              "  0.5381881594657898,\n",
              "  0.5303565859794617,\n",
              "  0.5237380266189575,\n",
              "  0.5162129402160645,\n",
              "  0.5100613832473755,\n",
              "  0.5031363368034363,\n",
              "  0.4967820346355438,\n",
              "  0.4905860126018524,\n",
              "  0.4849921464920044,\n",
              "  0.4785558581352234,\n",
              "  0.47307512164115906,\n",
              "  0.46686550974845886,\n",
              "  0.46181756258010864,\n",
              "  0.4557522237300873,\n",
              "  0.4513967037200928,\n",
              "  0.44545209407806396,\n",
              "  0.4405033588409424,\n",
              "  0.43474289774894714,\n",
              "  0.43026232719421387,\n",
              "  0.42485126852989197,\n",
              "  0.42050066590309143,\n",
              "  0.4153154790401459,\n",
              "  0.4108508825302124,\n",
              "  0.40604424476623535,\n",
              "  0.4020555019378662,\n",
              "  0.3972810208797455,\n",
              "  0.39299121499061584,\n",
              "  0.388752818107605,\n",
              "  0.3846438229084015,\n",
              "  0.3801169991493225,\n",
              "  0.37605664134025574,\n",
              "  0.37215548753738403,\n",
              "  0.36835184693336487,\n",
              "  0.3647032380104065,\n",
              "  0.3607414662837982,\n",
              "  0.3569539487361908,\n",
              "  0.3531665503978729,\n",
              "  0.34935930371284485,\n",
              "  0.3460124433040619,\n",
              "  0.3421471118927002,\n",
              "  0.3388482332229614,\n",
              "  0.33565860986709595,\n",
              "  0.33210235834121704,\n",
              "  0.32849714159965515,\n",
              "  0.32544100284576416],\n",
              " 'accuracy': [0.1805555522441864,\n",
              "  0.2222222238779068,\n",
              "  0.25555557012557983,\n",
              "  0.2768518626689911,\n",
              "  0.3305555582046509,\n",
              "  0.3898148238658905,\n",
              "  0.42407408356666565,\n",
              "  0.4555555582046509,\n",
              "  0.46759259700775146,\n",
              "  0.489814817905426,\n",
              "  0.5064814686775208,\n",
              "  0.5111111402511597,\n",
              "  0.520370364189148,\n",
              "  0.5324074029922485,\n",
              "  0.550000011920929,\n",
              "  0.5611110925674438,\n",
              "  0.5731481313705444,\n",
              "  0.5870370268821716,\n",
              "  0.5981481671333313,\n",
              "  0.6092592477798462,\n",
              "  0.6166666746139526,\n",
              "  0.6333333253860474,\n",
              "  0.645370364189148,\n",
              "  0.6518518328666687,\n",
              "  0.6638888716697693,\n",
              "  0.675000011920929,\n",
              "  0.6777777671813965,\n",
              "  0.6972222328186035,\n",
              "  0.7046296000480652,\n",
              "  0.7120370268821716,\n",
              "  0.7250000238418579,\n",
              "  0.7333333492279053,\n",
              "  0.739814817905426,\n",
              "  0.7444444298744202,\n",
              "  0.7481481432914734,\n",
              "  0.7555555701255798,\n",
              "  0.760185182094574,\n",
              "  0.7638888955116272,\n",
              "  0.7666666507720947,\n",
              "  0.770370364189148,\n",
              "  0.7740740776062012,\n",
              "  0.7787036895751953,\n",
              "  0.7777777910232544,\n",
              "  0.7833333611488342,\n",
              "  0.7842592597007751,\n",
              "  0.7907407283782959,\n",
              "  0.7925925850868225,\n",
              "  0.7972221970558167,\n",
              "  0.800000011920929,\n",
              "  0.8037037253379822,\n",
              "  0.8129629492759705,\n",
              "  0.8194444179534912,\n",
              "  0.8231481313705444,\n",
              "  0.8231481313705444,\n",
              "  0.8296296000480652,\n",
              "  0.8305555582046509,\n",
              "  0.835185170173645,\n",
              "  0.8342592716217041,\n",
              "  0.8370370268821716,\n",
              "  0.8425925970077515,\n",
              "  0.8435184955596924,\n",
              "  0.8462963104248047,\n",
              "  0.8509259223937988,\n",
              "  0.8500000238418579,\n",
              "  0.8537036776542664,\n",
              "  0.8583333492279053,\n",
              "  0.8583333492279053,\n",
              "  0.8611111044883728,\n",
              "  0.8592592477798462,\n",
              "  0.8592592477798462,\n",
              "  0.8611111044883728,\n",
              "  0.864814817905426,\n",
              "  0.8666666746139526,\n",
              "  0.8675925731658936,\n",
              "  0.8712962865829468,\n",
              "  0.8694444298744202,\n",
              "  0.875,\n",
              "  0.875,\n",
              "  0.8768518567085266,\n",
              "  0.8768518567085266,\n",
              "  0.8787037134170532,\n",
              "  0.8814814686775208,\n",
              "  0.8833333253860474,\n",
              "  0.885185182094574,\n",
              "  0.8861111402511597,\n",
              "  0.8888888955116272,\n",
              "  0.8916666507720947,\n",
              "  0.8916666507720947,\n",
              "  0.8935185074806213,\n",
              "  0.894444465637207,\n",
              "  0.895370364189148,\n",
              "  0.8962963223457336,\n",
              "  0.8999999761581421,\n",
              "  0.9009259343147278,\n",
              "  0.9027777910232544,\n",
              "  0.9064815044403076,\n",
              "  0.904629647731781,\n",
              "  0.9064815044403076,\n",
              "  0.9074074029922485,\n",
              "  0.9092592597007751],\n",
              " 'val_loss': [1.7848609685897827,\n",
              "  1.7797930240631104,\n",
              "  1.7724268436431885,\n",
              "  1.7629865407943726,\n",
              "  1.7516154050827026,\n",
              "  1.7366721630096436,\n",
              "  1.7184138298034668,\n",
              "  1.6963708400726318,\n",
              "  1.6683262586593628,\n",
              "  1.6348522901535034,\n",
              "  1.5944714546203613,\n",
              "  1.5498253107070923,\n",
              "  1.5027226209640503,\n",
              "  1.4533122777938843,\n",
              "  1.4021632671356201,\n",
              "  1.354040265083313,\n",
              "  1.30328369140625,\n",
              "  1.2566604614257812,\n",
              "  1.2104429006576538,\n",
              "  1.1675695180892944,\n",
              "  1.1277927160263062,\n",
              "  1.0893718004226685,\n",
              "  1.0531504154205322,\n",
              "  1.0193060636520386,\n",
              "  0.9870769381523132,\n",
              "  0.9570711851119995,\n",
              "  0.9313991665840149,\n",
              "  0.906664252281189,\n",
              "  0.8837338089942932,\n",
              "  0.8635389804840088,\n",
              "  0.8437213897705078,\n",
              "  0.8244702816009521,\n",
              "  0.8070935606956482,\n",
              "  0.7902238965034485,\n",
              "  0.774057924747467,\n",
              "  0.7592483758926392,\n",
              "  0.7443997859954834,\n",
              "  0.731441855430603,\n",
              "  0.7182175517082214,\n",
              "  0.7062476873397827,\n",
              "  0.6945945620536804,\n",
              "  0.6839199662208557,\n",
              "  0.6731525659561157,\n",
              "  0.6636636257171631,\n",
              "  0.653177797794342,\n",
              "  0.6441551446914673,\n",
              "  0.6355417966842651,\n",
              "  0.627077043056488,\n",
              "  0.6182615756988525,\n",
              "  0.6100422143936157,\n",
              "  0.6031041741371155,\n",
              "  0.5948495268821716,\n",
              "  0.5873898863792419,\n",
              "  0.5814943313598633,\n",
              "  0.573843777179718,\n",
              "  0.5676267147064209,\n",
              "  0.5610606670379639,\n",
              "  0.5539777874946594,\n",
              "  0.5496328473091125,\n",
              "  0.543218731880188,\n",
              "  0.5381529331207275,\n",
              "  0.5330150127410889,\n",
              "  0.5280722379684448,\n",
              "  0.521826982498169,\n",
              "  0.5188434720039368,\n",
              "  0.513698160648346,\n",
              "  0.5115049481391907,\n",
              "  0.5063678026199341,\n",
              "  0.5061265230178833,\n",
              "  0.5001522302627563,\n",
              "  0.49880701303482056,\n",
              "  0.49296849966049194,\n",
              "  0.49376583099365234,\n",
              "  0.487059086561203,\n",
              "  0.4878714978694916,\n",
              "  0.48206469416618347,\n",
              "  0.4809790253639221,\n",
              "  0.47748425602912903,\n",
              "  0.47660601139068604,\n",
              "  0.4728587567806244,\n",
              "  0.47165411710739136,\n",
              "  0.46887630224227905,\n",
              "  0.4664348065853119,\n",
              "  0.4632374346256256,\n",
              "  0.46135738492012024,\n",
              "  0.4582940340042114,\n",
              "  0.4552764296531677,\n",
              "  0.45353955030441284,\n",
              "  0.4504530727863312,\n",
              "  0.44759416580200195,\n",
              "  0.4453490674495697,\n",
              "  0.4418511688709259,\n",
              "  0.4400450885295868,\n",
              "  0.43679410219192505,\n",
              "  0.43459638953208923,\n",
              "  0.43322837352752686,\n",
              "  0.4305686056613922,\n",
              "  0.4284214675426483,\n",
              "  0.4265352189540863,\n",
              "  0.42496979236602783],\n",
              " 'val_accuracy': [0.23333333432674408,\n",
              "  0.2916666567325592,\n",
              "  0.2916666567325592,\n",
              "  0.3083333373069763,\n",
              "  0.3916666805744171,\n",
              "  0.40833333134651184,\n",
              "  0.4416666626930237,\n",
              "  0.4416666626930237,\n",
              "  0.4749999940395355,\n",
              "  0.4583333432674408,\n",
              "  0.4833333194255829,\n",
              "  0.4833333194255829,\n",
              "  0.5,\n",
              "  0.4833333194255829,\n",
              "  0.5249999761581421,\n",
              "  0.5333333611488342,\n",
              "  0.550000011920929,\n",
              "  0.550000011920929,\n",
              "  0.5583333373069763,\n",
              "  0.6000000238418579,\n",
              "  0.6333333253860474,\n",
              "  0.6416666507720947,\n",
              "  0.6916666626930237,\n",
              "  0.7083333134651184,\n",
              "  0.7250000238418579,\n",
              "  0.7166666388511658,\n",
              "  0.7166666388511658,\n",
              "  0.7166666388511658,\n",
              "  0.7250000238418579,\n",
              "  0.7166666388511658,\n",
              "  0.7333333492279053,\n",
              "  0.75,\n",
              "  0.7583333253860474,\n",
              "  0.7583333253860474,\n",
              "  0.7583333253860474,\n",
              "  0.7666666507720947,\n",
              "  0.7749999761581421,\n",
              "  0.7749999761581421,\n",
              "  0.7749999761581421,\n",
              "  0.7749999761581421,\n",
              "  0.7833333611488342,\n",
              "  0.7749999761581421,\n",
              "  0.7749999761581421,\n",
              "  0.7833333611488342,\n",
              "  0.7916666865348816,\n",
              "  0.7916666865348816,\n",
              "  0.7833333611488342,\n",
              "  0.7833333611488342,\n",
              "  0.7833333611488342,\n",
              "  0.7833333611488342,\n",
              "  0.7833333611488342,\n",
              "  0.7916666865348816,\n",
              "  0.800000011920929,\n",
              "  0.800000011920929,\n",
              "  0.800000011920929,\n",
              "  0.800000011920929,\n",
              "  0.8083333373069763,\n",
              "  0.8166666626930237,\n",
              "  0.8166666626930237,\n",
              "  0.8166666626930237,\n",
              "  0.8166666626930237,\n",
              "  0.8166666626930237,\n",
              "  0.824999988079071,\n",
              "  0.824999988079071,\n",
              "  0.824999988079071,\n",
              "  0.824999988079071,\n",
              "  0.824999988079071,\n",
              "  0.824999988079071,\n",
              "  0.824999988079071,\n",
              "  0.8166666626930237,\n",
              "  0.8166666626930237,\n",
              "  0.8166666626930237,\n",
              "  0.8166666626930237,\n",
              "  0.824999988079071,\n",
              "  0.824999988079071,\n",
              "  0.824999988079071,\n",
              "  0.8333333134651184,\n",
              "  0.824999988079071,\n",
              "  0.8166666626930237,\n",
              "  0.824999988079071,\n",
              "  0.824999988079071,\n",
              "  0.8166666626930237,\n",
              "  0.8166666626930237,\n",
              "  0.8166666626930237,\n",
              "  0.8166666626930237,\n",
              "  0.8333333134651184,\n",
              "  0.8166666626930237,\n",
              "  0.8333333134651184,\n",
              "  0.8333333134651184,\n",
              "  0.8333333134651184,\n",
              "  0.8333333134651184,\n",
              "  0.8333333134651184,\n",
              "  0.8333333134651184,\n",
              "  0.8333333134651184,\n",
              "  0.8333333134651184,\n",
              "  0.8333333134651184,\n",
              "  0.8333333134651184,\n",
              "  0.8416666388511658,\n",
              "  0.8333333134651184,\n",
              "  0.8500000238418579]}"
            ]
          },
          "execution_count": 18,
          "metadata": {},
          "output_type": "execute_result"
        }
      ],
      "source": [
        "history.history"
      ]
    },
    {
      "cell_type": "markdown",
      "metadata": {
        "id": "KWcmUSBes5It"
      },
      "source": [
        "Now visualize the loss over time using `history.history`: "
      ]
    },
    {
      "cell_type": "code",
      "execution_count": null,
      "metadata": {
        "id": "9SBQbzUrs5It",
        "outputId": "45cd1705-90fe-4b41-82df-406f39b80b34"
      },
      "outputs": [
        {
          "data": {
            "text/plain": [
              "[Text(0, 0.5, 'Accuracy'), Text(0.5, 0, 'Epoch')]"
            ]
          },
          "execution_count": 19,
          "metadata": {},
          "output_type": "execute_result"
        },
        {
          "data": {
            "image/png": "[encoded data removed]",
            "text/plain": [
              "<Figure size 864x576 with 1 Axes>"
            ]
          },
          "metadata": {
            "needs_background": "light"
          },
          "output_type": "display_data"
        },
        {
          "data": {
            "image/png": "[encoded data removed]",
            "text/plain": [
              "<Figure size 864x576 with 1 Axes>"
            ]
          },
          "metadata": {
            "needs_background": "light"
          },
          "output_type": "display_data"
        }
      ],
      "source": [
        "# The history.history[\"loss\"] entry is a dictionary with as many values as epochs that the\n",
        "# model was trained on. \n",
        "df_loss_acc = pd.DataFrame(history.history)\n",
        "df_loss= df_loss_acc[['loss','val_loss']]\n",
        "df_loss.rename(columns={'loss':'train','val_loss':'validation'},inplace=True)\n",
        "df_acc= df_loss_acc[['accuracy','val_accuracy']]\n",
        "df_acc.rename(columns={'accuracy':'train','val_accuracy':'validation'},inplace=True)\n",
        "df_loss.plot(title='Model loss',figsize=(12,8)).set(xlabel='Epoch',ylabel='Loss')\n",
        "df_acc.plot(title='Model Accuracy',figsize=(12,8)).set(xlabel='Epoch',ylabel='Accuracy')"
      ]
    },
    {
      "cell_type": "markdown",
      "metadata": {
        "id": "TYsLRcbfs5It"
      },
      "source": [
        "**Congratulations**! You've finished the assignment and built two models: One that recognizes  smiles, and another that recognizes SIGN language with almost 80% accuracy on the test set. In addition to that, you now also understand the applications of two Keras APIs: Sequential and Functional. Nicely done! \n",
        "\n",
        "By now, you know a bit about how the Functional API works and may have glimpsed the possibilities. In your next assignment, you'll really get a feel for its power when you get the opportunity to build a very deep ConvNet, using ResNets! "
      ]
    },
    {
      "cell_type": "markdown",
      "metadata": {
        "id": "pvwbajcfs5Iu"
      },
      "source": [
        "<a name='6'></a>\n",
        "## 6 - Bibliography\n",
        "\n",
        "You're always encouraged to read the official documentation. To that end, you can find the docs for the Sequential and Functional APIs here: \n",
        "\n",
        "https://www.tensorflow.org/guide/keras/sequential_model\n",
        "\n",
        "https://www.tensorflow.org/guide/keras/functional"
      ]
    }
  ],
  "metadata": {
    "coursera": {
      "course_slug": "convolutional-neural-networks",
      "graded_item_id": "bwbJV",
      "launcher_item_id": "0TkXB"
    },
    "kernelspec": {
      "display_name": "Python 3",
      "language": "python",
      "name": "python3"
    },
    "language_info": {
      "codemirror_mode": {
        "name": "ipython",
        "version": 3
      },
      "file_extension": ".py",
      "mimetype": "text/x-python",
      "name": "python",
      "nbconvert_exporter": "python",
      "pygments_lexer": "ipython3",
      "version": "3.7.6"
    },
    "colab": {
      "provenance": [],
      "include_colab_link": true
    }
  },
  "nbformat": 4,
  "nbformat_minor": 0
}